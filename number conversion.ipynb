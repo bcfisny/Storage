{
 "cells": [
  {
   "cell_type": "code",
   "execution_count": 8,
   "metadata": {},
   "outputs": [],
   "source": [
    "import math"
   ]
  },
  {
   "cell_type": "code",
   "execution_count": null,
   "metadata": {},
   "outputs": [
    {
     "name": "stdout",
     "output_type": "stream",
     "text": [
      "What is the base of your number? 10\n",
      "Enter a number to be converted: 7\n",
      "Enter a new base system to convert to: 1\n"
     ]
    }
   ],
   "source": [
    "#converts from any base [2,36] to any other base [2,36]\n",
    "\n",
    "class Convert:\n",
    "    def __init__(self, number, base, startbase):\n",
    "        self.number = number\n",
    "        self.base = base\n",
    "        self.startbase = startbase\n",
    "        \n",
    "    @classmethod\n",
    "    def get(cls):\n",
    "        startbase = int(input('What is the base of your number? '))\n",
    "        number = str(input('Enter a number to be converted: '))\n",
    "        base = int(input('Enter a new base system to convert to: '))\n",
    "        if (base > 36 or base <= 1):\n",
    "            return False\n",
    "        return cls(number, base, startbase)\n",
    "    \n",
    "    #converts from the user's base to base 10\n",
    "    def reverse(self):\n",
    "        rev = []\n",
    "        normal = []\n",
    "        \n",
    "        #breaks up the input into a list of integers\n",
    "        for i in str(self.number):\n",
    "            rev.append(i)\n",
    "        \n",
    "        #reverses the order of the integers\n",
    "        for i in range(len(rev)-1, -1, -1):\n",
    "            normal.append(rev[i])\n",
    "            \n",
    "        # expands the characters to base 10\n",
    "        sum = 0\n",
    "        # enumerate iterates over the index i and the value, char from the normal list\n",
    "        for i, char in enumerate(normal):\n",
    "            if char.isalpha():\n",
    "                # changes a letter to a number, starting with A=65\n",
    "                num = ord(char.upper()) - 55\n",
    "            else:\n",
    "                num = int(char)\n",
    "            \n",
    "            sum += num * self.startbase**i\n",
    "        \n",
    "        return sum\n",
    "    \n",
    "    #will convert the number to a base less than or equal to ten\n",
    "    def basenumber(self):\n",
    "        \n",
    "        #holds the digits in a list\n",
    "        bassarray = []\n",
    "        letters = ['A','B','C','D','E','F','G','H','I','J','K','L','M','N','O','P','Q','R','S','T','U','V','W','X','Y','Z']\n",
    "        #this allows the number to be the same one from the reverse method and therefore an int\n",
    "        number = self.reverse()\n",
    "            \n",
    "        #keeps dividing by a number and checking the remainder\n",
    "        while(number/self.base >= 1):\n",
    "            if(number % self.base >= 10):\n",
    "                bassarray.append(letters[int((number % self.base)-10)])\n",
    "            else:\n",
    "                bassarray.append(math.floor(number % self.base))\n",
    "            number = number/self.base\n",
    "         #checks if the number is less than the base\n",
    "        if(number/self.base < 1):\n",
    "            if(number % self.base >= 10):\n",
    "                bassarray.append(letters[int((number % self.base)-10)])\n",
    "            else:\n",
    "                bassarray.append(math.floor(number % self.base))\n",
    "\n",
    "        #converts the list (which is in reverse order) into a string\n",
    "        for i in range(len(bassarray)-1,-1,-1):\n",
    "            string = ''.join(str(bassarray[i]))\n",
    "            print(string, end = '')\n",
    "    \n",
    "\n",
    "    \n",
    "    \n",
    "converter = Convert.get()   \n",
    "converter.basenumber()"
   ]
  },
  {
   "cell_type": "code",
   "execution_count": 16,
   "metadata": {},
   "outputs": [
    {
     "name": "stdout",
     "output_type": "stream",
     "text": [
      "Enter a number to be converted: 555\n",
      "Enter a new base system to convert to: 12\n",
      "3A3"
     ]
    }
   ],
   "source": [
    "#test\n",
    "\n",
    "#converts from base 10 to another base between 2 and 36\n",
    "class Convert:\n",
    "    def __init__(self, number, base):\n",
    "        self.number = number\n",
    "        self.base = base\n",
    "        \n",
    "    @classmethod\n",
    "    def get(cls):\n",
    "        number = int(input('Enter a number to be converted: '))\n",
    "        base = int(input('Enter a new base system to convert to: '))\n",
    "        if (base > 36 or base <= 1):\n",
    "            return False\n",
    "        return cls(number, base)\n",
    "    \n",
    "    #will convert the number to a base less than or equal to ten\n",
    "    def basenumber(self):\n",
    "        \n",
    "        #holds the digits in a list\n",
    "        bassarray = []\n",
    "        letters = ['A','B','C','D','E','F','G','H','I','J','K','L','M','N','O','P','Q','R','S','T','U','V','W','X','Y','Z']\n",
    "            \n",
    "        #keeps dividing by a number and checking the remainder\n",
    "        while(self.number/self.base >= 1):\n",
    "            if(self.number % self.base >= 10):\n",
    "                bassarray.append(letters[int((self.number % self.base)-10)])\n",
    "            else:\n",
    "                bassarray.append(math.floor(self.number % self.base))\n",
    "            self.number = self.number/self.base\n",
    "         #checks if the number is less than the base\n",
    "        if(self.number/self.base < 1):\n",
    "            if(self.number % self.base >= 10):\n",
    "                bassarray.append(letters[int((self.number % self.base)-10)])\n",
    "            else:\n",
    "                bassarray.append(math.floor(self.number % self.base))\n",
    "\n",
    "        #converts the list (which is in reverse order) into a string\n",
    "        for i in range(len(bassarray)-1,-1,-1):\n",
    "            string = ''.join(str(bassarray[i]))\n",
    "            print(string, end = '')\n",
    "    \n",
    "\n",
    "       \n",
    "converter = Convert.get()   \n",
    "converter.basenumber()"
   ]
  },
  {
   "cell_type": "code",
   "execution_count": 167,
   "metadata": {},
   "outputs": [
    {
     "name": "stdout",
     "output_type": "stream",
     "text": [
      "Use capital letters when expressing bases above 10\n",
      "Enter a number to be converted: AB\n",
      "Enter the base to convert from: 13\n"
     ]
    },
    {
     "data": {
      "text/plain": [
       "141"
      ]
     },
     "execution_count": 167,
     "metadata": {},
     "output_type": "execute_result"
    }
   ],
   "source": [
    "#test\n",
    "\n",
    "#converts from any base [2,36] to base 10\n",
    "class Convert:\n",
    "    def __init__(self, number, base):\n",
    "        self.number = number\n",
    "        self.base = base\n",
    "\n",
    "    def reverse(self):\n",
    "        rev = []\n",
    "        normal = []\n",
    "        \n",
    "        #breaks up the input into a list of integers\n",
    "        for i in str(self.number):\n",
    "            rev.append(i)\n",
    "        \n",
    "        #reverses the order of the integers\n",
    "        for i in range(len(rev)-1, -1, -1):\n",
    "            normal.append(rev[i])\n",
    "            \n",
    "        for i in range(len(normal)):\n",
    "            #checks if i is a letter\n",
    "            if normal[i].isalpha():\n",
    "                #ord() changes a letter to a number, starting with a=65\n",
    "                normal[i] = ord(normal[i])-55    \n",
    "        \n",
    "        # expands the number to base 10\n",
    "        sum = 0\n",
    "        for i in range(len(normal)):\n",
    "            sum += int(normal[i]) * self.base**i\n",
    "        \n",
    "        return sum\n",
    "\n",
    "\n",
    "print('Use capital letters when expressing bases above 10')\n",
    "number_to_convert = str(input('Enter a number to be converted: '))\n",
    "base_to_convert = int(input('Enter the base to convert from: '))\n",
    "converter = Convert(number_to_convert, base_to_convert)\n",
    "converter.reverse()"
   ]
  },
  {
   "cell_type": "markdown",
   "metadata": {},
   "source": []
  },
  {
   "cell_type": "code",
   "execution_count": null,
   "metadata": {},
   "outputs": [],
   "source": []
  }
 ],
 "metadata": {
  "kernelspec": {
   "display_name": "Python 3",
   "language": "python",
   "name": "python3"
  },
  "language_info": {
   "codemirror_mode": {
    "name": "ipython",
    "version": 3
   },
   "file_extension": ".py",
   "mimetype": "text/x-python",
   "name": "python",
   "nbconvert_exporter": "python",
   "pygments_lexer": "ipython3",
   "version": "3.8.10"
  }
 },
 "nbformat": 4,
 "nbformat_minor": 4
}
