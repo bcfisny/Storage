{
 "cells": [
  {
   "cell_type": "code",
   "execution_count": 105,
   "metadata": {},
   "outputs": [],
   "source": [
    "import numpy as np\n",
    "import matplotlib.pyplot as plt"
   ]
  },
  {
   "cell_type": "code",
   "execution_count": 169,
   "metadata": {
    "scrolled": false
   },
   "outputs": [
    {
     "name": "stdout",
     "output_type": "stream",
     "text": [
      "Type any letter to stop\n",
      "Enter the coefficient of your lowest degree polynomial (starting at x^0) 6\n",
      "Enter the coefficient of your next lowest polynomial -5\n",
      "Enter the coefficient of your next lowest polynomial 1\n",
      "Enter the coefficient of your next lowest polynomial a\n",
      "roots =  [3. 2.]\n"
     ]
    },
    {
     "data": {
      "image/png": "[encoded data removed]",
      "text/plain": [
       "<Figure size 432x288 with 1 Axes>"
      ]
     },
     "metadata": {
      "needs_background": "light"
     },
     "output_type": "display_data"
    }
   ],
   "source": [
    "import numpy as np\n",
    "import matplotlib.pyplot as plt\n",
    "\n",
    "#finds the roots of a polynomial and graphs if along with the roots\n",
    "class poly:\n",
    "    def __init__(self,coef,coefficients_rev):\n",
    "        self.coef = coef\n",
    "        self.coefficients_rev = coefficients_rev\n",
    "        \n",
    "    @classmethod\n",
    "    def get(cls):\n",
    "        print('Type any letter to stop')\n",
    "        coefficients_rev = []\n",
    "        \n",
    "        coef = input('Enter the coefficient of your lowest degree polynomial (starting at x^0) ')\n",
    "        coefficients_rev.append(coef)\n",
    "        \n",
    "        #keeps running until the user enters a letter\n",
    "        while coef.isdigit() or '-' in coef or '.' in coef:\n",
    "                coef = input('Enter the coefficient of your next lowest polynomial ')\n",
    "                coefficients_rev.append(coef)\n",
    "                \n",
    "        #removes the last item in the array, the letter\n",
    "        coefficients_rev.pop()\n",
    "        \n",
    "        return cls(coef, coefficients_rev)\n",
    "    \n",
    "    def main(self):\n",
    "        coefficients = []\n",
    "\n",
    "        #reverses the list of the coefficients so the highest order is first\n",
    "        #also converts the coefficients to floats instead of strings\n",
    "        for i in range(len(self.coefficients_rev)-1,-1,-1):\n",
    "            coefficients.append(float(self.coefficients_rev[i]))\n",
    "\n",
    "\n",
    "        #finds the roots with the given coefficients    \n",
    "        print('roots = ', np.roots(coefficients))\n",
    "\n",
    "        #fills in the y-values of the roots    \n",
    "        yroots =[]\n",
    "        for i in range(len(coefficients)-1):\n",
    "            yroots.append(0)\n",
    "\n",
    "        #the x and y values of the polynomials\n",
    "        xpoly = []\n",
    "        ypoly = []\n",
    "\n",
    "        #creates the polynomial function\n",
    "        def polynomial(p,x):\n",
    "            result = 0\n",
    "            #p[::-1] reverses the coefficients so the highest order is first\n",
    "            for i,a in enumerate(p[::-1]):\n",
    "                #this adds in the negatvie values for coefficients\n",
    "                result += a*x**i\n",
    "            return result\n",
    "\n",
    "        for i in range(-10,10):\n",
    "            xpoly.append(i)\n",
    "            ypoly.append(polynomial(coefficients,i))\n",
    "            \n",
    "        \n",
    "        plt.plot(xpoly,ypoly, label = 'polynomial')\n",
    "        # 'ob' makes the points discrete    \n",
    "        plt.plot(np.roots(coefficients),yroots, 'ob', label = 'roots')\n",
    "        plt.legend()\n",
    "        plt.xlim(-10,10)\n",
    "        \n",
    "\n",
    "polynomial = poly.get()\n",
    "polynomial.main()"
   ]
  },
  {
   "cell_type": "code",
   "execution_count": null,
   "metadata": {},
   "outputs": [],
   "source": [
    "# finds the roots of a polynomial and graphs if along with the roots\n",
    "print('Type any letter to stop')\n",
    "\n",
    "coefficients_rev = []\n",
    "coefficients = []\n",
    "\n",
    "coef = input('Enter the coefficient of your lowest degree polynomial (starting at x^0) ')\n",
    "coefficients_rev.append(coef)\n",
    "\n",
    "#keeps running until the user enters a letter\n",
    "while coef.isdigit() or '-' in coef or '.' in coef:\n",
    "        coef = input('Enter the coefficient of your next lowest polynomial ')\n",
    "        coefficients_rev.append(coef)\n",
    "              \n",
    "#removes the last item in the array, the letter\n",
    "coefficients_rev.pop()\n",
    "\n",
    "#reverses the list of the coefficients so the highest order is first\n",
    "#also converts the coefficients to floats instead of strings\n",
    "for i in range(len(coefficients_rev)-1,-1,-1):\n",
    "    coefficients.append(float(coefficients_rev[i]))\n",
    "\n",
    "    \n",
    "#finds the roots with the given coefficients    \n",
    "print('roots = ', np.roots(coefficients))\n",
    "\n",
    "#fills in the y-values of the roots    \n",
    "yroots =[]\n",
    "for i in range(len(coefficients)-1):\n",
    "    yroots.append(0)\n",
    "    \n",
    "#the x and y values of the polynomials\n",
    "xpoly = []\n",
    "ypoly = []\n",
    "\n",
    "#creates the polynomial function\n",
    "def polynomial(p,x):\n",
    "    result = 0\n",
    "    #p[::-1] reverses the coefficients so the highest order is first\n",
    "    for i,a in enumerate(p[::-1]):\n",
    "        #this adds in the negatvie values for coefficients\n",
    "        result += a*x**i\n",
    "    return result\n",
    "\n",
    "for i in range(-10,10):\n",
    "    xpoly.append(i)\n",
    "    ypoly.append(polynomial(coefficients,i))\n",
    " \n",
    "plt.plot(xpoly,ypoly, label = 'polynomial')\n",
    "# 'ob' makes the points discrete    \n",
    "plt.plot(np.roots(coefficients),yroots, 'ob', label = 'roots')\n",
    "plt.legend()\n",
    "plt.xlim(-10,10)"
   ]
  },
  {
   "cell_type": "code",
   "execution_count": null,
   "metadata": {},
   "outputs": [],
   "source": []
  },
  {
   "cell_type": "markdown",
   "metadata": {},
   "source": []
  }
 ],
 "metadata": {
  "kernelspec": {
   "display_name": "Python 3",
   "language": "python",
   "name": "python3"
  },
  "language_info": {
   "codemirror_mode": {
    "name": "ipython",
    "version": 3
   },
   "file_extension": ".py",
   "mimetype": "text/x-python",
   "name": "python",
   "nbconvert_exporter": "python",
   "pygments_lexer": "ipython3",
   "version": "3.8.10"
  }
 },
 "nbformat": 4,
 "nbformat_minor": 4
}
